{
 "cells": [
  {
   "cell_type": "markdown",
   "id": "e3bb5a25",
   "metadata": {},
   "source": [
    "## MetaData Creation"
   ]
  },
  {
   "cell_type": "code",
   "execution_count": 84,
   "id": "96e2d9f8",
   "metadata": {},
   "outputs": [],
   "source": [
    "df = pd.read_excel('df_with_metadata.xlsx')"
   ]
  },
  {
   "cell_type": "code",
   "execution_count": 85,
   "id": "6f4fb9c9",
   "metadata": {},
   "outputs": [],
   "source": [
    "# Define the 16 sections and map them to their respective columns in the dataframe\n",
    "sections = [\n",
    "    \"Identification\", \"Hazards identification\", \"Composition/information on ingredients\", \"First aid measures\",\n",
    "    \"Firefighting measures\", \"Accidental release measures\", \"Handling and storage\", \n",
    "    \"Exposure controls/personal protection\", \"Physical and chemical properties\", \"Stability and reactivity\",\n",
    "    \"Toxicological information\", \"Ecological information\", \"Disposal considerations\", \n",
    "    \"Transport information\", \"Regulatory information\", \"Other information\"\n",
    "]\n",
    "\n",
    "# Function to generate processed metadata for each row\n",
    "def generate_processed_metadata(row):\n",
    "    processed_metadata = []\n",
    "    for section_id, section_name in enumerate(sections, start=1):\n",
    "        metadata_entry = {\n",
    "            \"page_content\": row[section_name] if pd.notnull(row[section_name]) else \"\",\n",
    "            \"metadata\": {\n",
    "                \"File Name\": row[\"File Name\"],\n",
    "                \"product_name\": row[\"Product Name\"],\n",
    "                \"supplier\": row[\"Supplier Name\"],\n",
    "                \"section_id\": section_id\n",
    "            }\n",
    "        }\n",
    "        processed_metadata.append(metadata_entry)\n",
    "    return processed_metadata\n",
    "\n",
    "# Apply the function to create the processed_metadata column\n",
    "df['processed_metadata'] = df.apply(generate_processed_metadata, axis=1)\n",
    "\n"
   ]
  },
  {
   "cell_type": "code",
   "execution_count": 88,
   "id": "00ccdd97",
   "metadata": {
    "scrolled": false
   },
   "outputs": [],
   "source": [
    "# df['processed_metadata'][49]"
   ]
  },
  {
   "cell_type": "code",
   "execution_count": 87,
   "id": "7d3c7395",
   "metadata": {},
   "outputs": [
    {
     "data": {
      "text/plain": [
       "(True,\n",
       " True    50\n",
       " Name: is_valid_json, dtype: int64)"
      ]
     },
     "execution_count": 87,
     "metadata": {},
     "output_type": "execute_result"
    }
   ],
   "source": [
    "import json\n",
    "\n",
    "def validate_json_structure(row):\n",
    "    \"\"\"\n",
    "    Validates if each item in the processed_metadata column is:\n",
    "    1. A list containing 16 dictionaries\n",
    "    2. Each dictionary has a valid JSON structure with required fields\n",
    "    \"\"\"\n",
    "    # Check if the row is a list\n",
    "    if not isinstance(row, list):\n",
    "        return False\n",
    "    \n",
    "    # Check if it contains 16 items\n",
    "    if len(row) != 16:\n",
    "        return False\n",
    "    \n",
    "    # Validate each item\n",
    "    for item in row:\n",
    "        # Check if each item is a dictionary\n",
    "        if not isinstance(item, dict):\n",
    "            return False\n",
    "        # Check if it contains 'page_content' and 'metadata'\n",
    "        if 'page_content' not in item or 'metadata' not in item:\n",
    "            return False\n",
    "        # Check if metadata contains required fields\n",
    "        metadata = item['metadata']\n",
    "        required_fields = {'File Name', 'product_name', 'supplier', 'section_id'}\n",
    "        if not required_fields.issubset(metadata.keys()):\n",
    "            return False\n",
    "        # Check if section_id is an integer between 1 and 16\n",
    "        section_id = metadata.get('section_id')\n",
    "        if not isinstance(section_id, int) or not 1 <= section_id <= 16:\n",
    "            return False\n",
    "\n",
    "    return True\n",
    "\n",
    "# Apply validation function and get summary\n",
    "df['is_valid_json'] = df['processed_metadata'].apply(validate_json_structure)\n",
    "\n",
    "# Check if all rows are valid\n",
    "all_valid = df['is_valid_json'].all()\n",
    "\n",
    "# Output the result\n",
    "all_valid, df['is_valid_json'].value_counts()\n"
   ]
  },
  {
   "cell_type": "markdown",
   "id": "4b98bdd9",
   "metadata": {},
   "source": [
    "##"
   ]
  },
  {
   "cell_type": "markdown",
   "id": "b412f8bf",
   "metadata": {},
   "source": [
    "##"
   ]
  },
  {
   "cell_type": "markdown",
   "id": "91c91504",
   "metadata": {},
   "source": [
    "## Chroma DB set-up"
   ]
  },
  {
   "cell_type": "markdown",
   "id": "bf2c9254",
   "metadata": {},
   "source": [
    "### "
   ]
  },
  {
   "cell_type": "code",
   "execution_count": 89,
   "id": "e5bb70fc",
   "metadata": {},
   "outputs": [],
   "source": [
    "import os\n",
    "import json\n",
    "import pandas as pd\n",
    "import openai\n",
    "import chromadb\n",
    "from langchain_openai import OpenAIEmbeddings\n",
    "from langchain.vectorstores import Chroma\n",
    "from chromadb.config import Settings\n",
    "\n",
    "# Set OpenAI API key\n",
    "os.environ['OPENAI_API_KEY'] = 'sk-svcacct-QsCZJG1m7apYpNXmYDj73kS-eon0tOJ9Iy6XuNwWD8dH3IDn9QM_OgxlYV-O2-PlAET3BlbkFJ5LFfldkzioy0xrvORw_jOaQo2acpnCix3KApdmur4QmECN1t17iJA0nBrv6cSS74MA'\n",
    "\n",
    "openai.api_key = os.environ['OPENAI_API_KEY']\n"
   ]
  },
  {
   "cell_type": "code",
   "execution_count": 90,
   "id": "14d5d511",
   "metadata": {},
   "outputs": [
    {
     "name": "stdout",
     "output_type": "stream",
     "text": [
      "No existing collection found to delete.\n"
     ]
    }
   ],
   "source": [
    "# Setup ChromaDB client\n",
    "chroma_db_path = \"Chroma_db_storage\"\n",
    "os.makedirs(chroma_db_path, exist_ok=True)\n",
    "client = chromadb.PersistentClient(path=chroma_db_path)\n",
    "\n",
    "# Define collection name and initialize collection\n",
    "collection_name = \"openai_sds_embeddings_metadata\"\n",
    "try:\n",
    "    client.delete_collection(name=collection_name)\n",
    "except Exception as e:\n",
    "    print(\"No existing collection found to delete.\")\n",
    "collection = client.create_collection(name=collection_name)\n"
   ]
  },
  {
   "cell_type": "code",
   "execution_count": 91,
   "id": "8c2a687d",
   "metadata": {},
   "outputs": [],
   "source": [
    "def get_embedding(text, model=\"text-embedding-ada-002\"):\n",
    "    try:\n",
    "        response = openai.Embedding.create(input=text, model=model)\n",
    "        return response['data'][0]['embedding']\n",
    "    except Exception as e:\n",
    "        print(f\"Embedding error: {e}\")\n",
    "        return None\n"
   ]
  },
  {
   "cell_type": "code",
   "execution_count": 92,
   "id": "2fe155aa",
   "metadata": {},
   "outputs": [],
   "source": [
    "def store_sds_documents_to_chromadb(df):\n",
    "    for index, row in df.iterrows():\n",
    "        for section in row['processed_metadata']:\n",
    "            page_content = section['page_content']\n",
    "            metadata = section['metadata']\n",
    "            embedding = get_embedding(page_content)\n",
    "            \n",
    "            if embedding:\n",
    "                collection.add(\n",
    "                    embeddings=[embedding],\n",
    "                    documents=[page_content],\n",
    "                    ids=[f\"{index}_{metadata['section_id']}\"],\n",
    "                    metadatas=[metadata]\n",
    "                )\n",
    "    print(\"All sections stored in ChromaDB.\")\n"
   ]
  },
  {
   "cell_type": "code",
   "execution_count": null,
   "id": "364915b2",
   "metadata": {},
   "outputs": [],
   "source": [
    "store_sds_documents_to_chromadb(df)\n"
   ]
  },
  {
   "cell_type": "code",
   "execution_count": 1,
   "id": "b03a38d6",
   "metadata": {},
   "outputs": [],
   "source": [
    "def retrieve_section(product_name, supplier, section_id, query_parameter=None):\n",
    "    # Define filters\n",
    "    filters = {\n",
    "        \"product_name\": product_name,\n",
    "        \"supplier\": supplier,\n",
    "        \"section_id\": section_id\n",
    "    }\n",
    "    \n",
    "    # If query_parameter is specified, adjust retrieval\n",
    "    if query_parameter:\n",
    "        results = collection.query(\n",
    "            where=filters,\n",
    "            n_results=1,\n",
    "            search_kwargs={\"query\": query_parameter}\n",
    "        )\n",
    "    else:\n",
    "        results = collection.query(where=filters, n_results=1)\n",
    "    \n",
    "    # Extract and return the relevant data\n",
    "    if results['documents']:\n",
    "        document = results['documents'][0]\n",
    "        metadata = results['metadatas'][0]\n",
    "        return {\n",
    "            \"product_name\": metadata['product_name'],\n",
    "            \"supplier\": metadata['supplier'],\n",
    "            \"section_id\": metadata['section_id'],\n",
    "            \"query_parameter\": query_parameter,\n",
    "            \"page_content\": document\n",
    "        }\n",
    "    else:\n",
    "        print(\"No matching section found.\")\n",
    "        return None\n"
   ]
  },
  {
   "cell_type": "code",
   "execution_count": null,
   "id": "7ecbafaf",
   "metadata": {},
   "outputs": [],
   "source": [
    "# Example to retrieve based on specific criteria\n",
    "result = retrieve_section(\n",
    "    product_name=\"4-Aminopyridine\",\n",
    "    supplier=\"/UNDERTAKING.\",\n",
    "    section_id=1,\n",
    "    query_parameter=\"Identification\"\n",
    ")\n",
    "print(result)\n"
   ]
  },
  {
   "cell_type": "code",
   "execution_count": null,
   "id": "951b4d9b",
   "metadata": {},
   "outputs": [],
   "source": []
  }
 ],
 "metadata": {
  "kernelspec": {
   "display_name": "Python 3 (ipykernel)",
   "language": "python",
   "name": "python3"
  },
  "language_info": {
   "codemirror_mode": {
    "name": "ipython",
    "version": 3
   },
   "file_extension": ".py",
   "mimetype": "text/x-python",
   "name": "python",
   "nbconvert_exporter": "python",
   "pygments_lexer": "ipython3",
   "version": "3.11.4"
  }
 },
 "nbformat": 4,
 "nbformat_minor": 5
}
